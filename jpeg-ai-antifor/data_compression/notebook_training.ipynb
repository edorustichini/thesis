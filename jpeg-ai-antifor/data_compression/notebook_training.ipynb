{
 "cells": [
  {
   "cell_type": "code",
   "execution_count": 1,
   "metadata": {},
   "outputs": [
    {
     "name": "stderr",
     "output_type": "stream",
     "text": [
      "/data/lesc/users/rustichini/miniconda3/envs/jpeg_ai_vm/lib/python3.7/site-packages/tqdm/auto.py:21: TqdmWarning: IProgress not found. Please update jupyter and ipywidgets. See https://ipywidgets.readthedocs.io/en/stable/user_install.html\n",
      "  from .autonotebook import tqdm as notebook_tqdm\n"
     ]
    }
   ],
   "source": [
    "import os, glob\n",
    "import torch\n",
    "import pandas as pd\n",
    "import numpy as np"
   ]
  },
  {
   "cell_type": "code",
   "execution_count": 2,
   "metadata": {},
   "outputs": [],
   "source": [
    "from sklearn.ensemble import RandomForestClassifier\n",
    "from sklearn.utils import shuffle\n",
    "from sklearn.metrics import accuracy_score\n",
    "from sklearn.model_selection import train_test_split, GridSearchCV"
   ]
  },
  {
   "cell_type": "code",
   "execution_count": 9,
   "metadata": {},
   "outputs": [],
   "source": [
    "from train_RF import get_name, create_dataset"
   ]
  },
  {
   "cell_type": "code",
   "execution_count": 4,
   "metadata": {},
   "outputs": [],
   "source": [
    "dir_train = \"/data/lesc/users/rustichini/thesis/output/medium_dataset_output/target_bpp_6/train/\"\n",
    "df_train = pd.read_csv(\"/data/lesc/users/rustichini/thesis/train.csv\")\n",
    "df_train = df_train.drop(columns = [\"original_path\", \"path\"])\n",
    "\n",
    "\n",
    "\n",
    "dir_test = \"/data/lesc/users/rustichini/thesis/output/medium_dataset_output/target_bpp_6/test/\"\n",
    "df_test = pd.read_csv(\"/data/lesc/users/rustichini/thesis/test.csv\")\n",
    "df_test = df_test.drop(columns = [\"original_path\", \"path\"])\n",
    "\n",
    "X_train, y_train = create_dataset(df_train, dir_train)\n",
    "X_test, y_test = create_dataset(df_test, dir_test)"
   ]
  },
  {
   "cell_type": "code",
   "execution_count": 13,
   "metadata": {},
   "outputs": [
    {
     "name": "stdout",
     "output_type": "stream",
     "text": [
      "(num_samples, num_features)\n",
      "Train dataset : (2000, 65536)\n",
      "Test dataset: (200, 65536)\n"
     ]
    }
   ],
   "source": [
    "print(\"(num_samples, num_features)\")\n",
    "print(f\"Train dataset : {X_train.shape}\")\n",
    "print(f\"Test dataset: {X_test.shape}\")"
   ]
  },
  {
   "cell_type": "code",
   "execution_count": 5,
   "metadata": {},
   "outputs": [
    {
     "data": {
      "text/plain": [
       "RandomForestClassifier(n_estimators=250)"
      ]
     },
     "execution_count": 5,
     "metadata": {},
     "output_type": "execute_result"
    }
   ],
   "source": [
    "rf = RandomForestClassifier(n_estimators=250)\n",
    "rf.fit(X_train,y_train)"
   ]
  },
  {
   "cell_type": "code",
   "execution_count": 6,
   "metadata": {},
   "outputs": [],
   "source": [
    "y_pred = rf.predict(X_test)\n",
    "y_proba = rf.predict_proba(X_test)"
   ]
  },
  {
   "cell_type": "code",
   "execution_count": 7,
   "metadata": {},
   "outputs": [
    {
     "name": "stdout",
     "output_type": "stream",
     "text": [
      "\n",
      "--- Valutazione delle Prestazioni del Random Forest ---\n",
      "1. Accuratezza sul Test Set: 0.7700\n"
     ]
    }
   ],
   "source": [
    "# --- Valutazione delle Prestazioni ---\n",
    "print(\"\\n--- Valutazione delle Prestazioni del Random Forest ---\")\n",
    "\n",
    "num_classes = len(np.unique(y_train))\n",
    "class_names = [f'Classe {i}' for i in range(num_classes)]\n",
    "\n",
    "accuracy = accuracy_score(y_test, y_pred)\n",
    "print(f\"1. Accuratezza sul Test Set: {accuracy:.4f}\")"
   ]
  }
 ],
 "metadata": {
  "kernelspec": {
   "display_name": "jpeg_ai_vm",
   "language": "python",
   "name": "python3"
  },
  "language_info": {
   "codemirror_mode": {
    "name": "ipython",
    "version": 3
   },
   "file_extension": ".py",
   "mimetype": "text/x-python",
   "name": "python",
   "nbconvert_exporter": "python",
   "pygments_lexer": "ipython3",
   "version": "3.7.16"
  }
 },
 "nbformat": 4,
 "nbformat_minor": 2
}
