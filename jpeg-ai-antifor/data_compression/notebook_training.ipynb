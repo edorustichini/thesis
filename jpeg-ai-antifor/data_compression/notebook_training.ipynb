{
 "cells": [
  {
   "cell_type": "code",
   "execution_count": 7,
   "metadata": {},
   "outputs": [],
   "source": [
    "import os, glob\n",
    "import torch\n",
    "import pandas as pd\n",
    "import numpy as np\n",
    "import pickle\n",
    "import joblib\n",
    "import argparse"
   ]
  },
  {
   "cell_type": "code",
   "execution_count": 3,
   "metadata": {},
   "outputs": [],
   "source": [
    "from sklearn.ensemble import RandomForestClassifier\n",
    "from sklearn.utils import shuffle\n",
    "from sklearn.metrics import accuracy_score, classification_report\n",
    "from sklearn.model_selection import train_test_split, GridSearchCV"
   ]
  },
  {
   "cell_type": "code",
   "execution_count": 15,
   "metadata": {},
   "outputs": [],
   "source": [
    "from train_RF import get_name, create_dataset, load_model, setup, sample"
   ]
  },
  {
   "cell_type": "code",
   "execution_count": 5,
   "metadata": {},
   "outputs": [],
   "source": [
    "target = 'y' #TODO: da provare anche con hat"
   ]
  },
  {
   "cell_type": "code",
   "execution_count": 9,
   "metadata": {},
   "outputs": [
    {
     "name": "stdout",
     "output_type": "stream",
     "text": [
      "Codec/Encoder: name=JAI, version=DIS\n"
     ]
    }
   ],
   "source": [
    "import sys\n",
    "sys.argv = [\n",
    "    'train_RF.py',                   # fittizio\n",
    "    '../../input_imgs',\n",
    "    '../../output/'         \n",
    "    \n",
    "]\n",
    "parser = argparse.ArgumentParser(description='Compress a directory of images using the RecoEncoder')\n",
    "parser.add_argument('--gpu', type=int, default=None, help='GPU index')\n",
    "parser.add_argument('--imgs_path', type=str, default='../../real_vs_fake/real-vs-fake', help='Input directory')\n",
    "parser.add_argument('input_path', type=str, default='../../input_imgs', help='Input directory')\n",
    "parser.add_argument('bin_path', type=str, default='../../JPEGAI_output/', help='Save directory')\n",
    "parser.add_argument('--set_target_bpp', type=int, default=1, help='Set the target bpp '\n",
    "                                                                    '(multiplied by 100)')\n",
    "parser.add_argument('--models_dir_name', type=str, default='../../jpeg-ai-reference-software/models', help='Directory name for the '\n",
    "                                                                                'models used in the encoder-decoder'\n",
    "                                                                                'pipeline')\n",
    "#Arguments for training\n",
    "parser.add_argument('--num_samples', type=int, default=None, help='Number of samples to process')\n",
    "parser.add_argument(\"--train_csv\",default=\"../../train.csv\" , help=\"Path to dataset's csv file\")\n",
    "parser.add_argument(\"--test_csv\", default=\"../../test.csv\", help=\"Path to test's csv file\")\n",
    "parser.add_argument(\"-t\", \"--target\",default=\"y\", help=\"y_hat if quantized latent, else y\")\n",
    "parser.add_argument(\"--models_save_dir\", default=\"/data/lesc/users/rustichini/thesis/models_saved\", help=\"Directory to save models\")\n",
    "args = parser.parse_args()\n",
    "\n",
    "coder = setup(args)"
   ]
  },
  {
   "cell_type": "code",
   "execution_count": 13,
   "metadata": {},
   "outputs": [
    {
     "name": "stderr",
     "output_type": "stream",
     "text": [
      "  0%|          | 0/10 [00:00<?, ?it/s]"
     ]
    },
    {
     "name": "stderr",
     "output_type": "stream",
     "text": [
      "100%|██████████| 10/10 [01:04<00:00,  6.49s/it]\n"
     ]
    }
   ],
   "source": [
    "imgs_dir = args.imgs_path\n",
    "target = args.target\n",
    "\n",
    "df_test = pd.read_csv(args.test_csv)\n",
    "n_test_samples = 10\n",
    "df_test = sample(df_test,n_test_samples)\n",
    "X_test, y_test = create_dataset(coder, df_test,imgs_dir, target)"
   ]
  },
  {
   "cell_type": "code",
   "execution_count": 21,
   "metadata": {},
   "outputs": [
    {
     "name": "stdout",
     "output_type": "stream",
     "text": [
      "              precision    recall  f1-score   support\n",
      "\n",
      "           0       0.00      0.00      0.00         5\n",
      "           1       0.44      0.80      0.57         5\n",
      "\n",
      "    accuracy                           0.40        10\n",
      "   macro avg       0.22      0.40      0.29        10\n",
      "weighted avg       0.22      0.40      0.29        10\n",
      "\n"
     ]
    }
   ],
   "source": [
    "model_path = \"/data/lesc/users/rustichini/thesis/models_saved/10_samples/y/RF_1_estimators.joblib\"\n",
    "model = load_model(model_path)\n",
    "y_pred = model.predict(X_test)\n",
    "print(classification_report(y_test, y_pred))"
   ]
  }
 ],
 "metadata": {
  "kernelspec": {
   "display_name": "jpeg_ai_vm",
   "language": "python",
   "name": "python3"
  },
  "language_info": {
   "codemirror_mode": {
    "name": "ipython",
    "version": 3
   },
   "file_extension": ".py",
   "mimetype": "text/x-python",
   "name": "python",
   "nbconvert_exporter": "python",
   "pygments_lexer": "ipython3",
   "version": "3.7.16"
  }
 },
 "nbformat": 4,
 "nbformat_minor": 2
}
