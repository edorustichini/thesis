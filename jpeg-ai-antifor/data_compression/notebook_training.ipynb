{
 "cells": [
  {
   "cell_type": "code",
   "execution_count": 21,
   "metadata": {},
   "outputs": [],
   "source": [
    "import os, glob\n",
    "import torch\n",
    "import pandas as pd\n",
    "import numpy as np\n",
    "import pickle"
   ]
  },
  {
   "cell_type": "code",
   "execution_count": 22,
   "metadata": {},
   "outputs": [],
   "source": [
    "from sklearn.ensemble import RandomForestClassifier\n",
    "from sklearn.utils import shuffle\n",
    "from sklearn.metrics import accuracy_score, classification_report\n",
    "from sklearn.model_selection import train_test_split, GridSearchCV"
   ]
  },
  {
   "cell_type": "code",
   "execution_count": 23,
   "metadata": {},
   "outputs": [],
   "source": [
    "from train_RF import get_name, create_dataset"
   ]
  },
  {
   "cell_type": "code",
   "execution_count": 24,
   "metadata": {},
   "outputs": [],
   "source": [
    "target = 'y' #TODO: da provare anche con hat"
   ]
  },
  {
   "cell_type": "code",
   "execution_count": 25,
   "metadata": {},
   "outputs": [
    {
     "name": "stderr",
     "output_type": "stream",
     "text": [
      "100%|██████████| 400/400 [00:01<00:00, 391.14it/s]\n"
     ]
    }
   ],
   "source": [
    "dir_train = \"/data/lesc/users/rustichini/thesis/output/small_dataset/target_bpp_6/train\"\n",
    "df_train = pd.read_csv(\"/data/lesc/users/rustichini/thesis/train.csv\")\n",
    "df_train = df_train.drop(columns = [\"original_path\", \"path\"])\n",
    "\n",
    "X_train, y_train = create_dataset(df_train, dir_train, target)"
   ]
  },
  {
   "cell_type": "code",
   "execution_count": 26,
   "metadata": {},
   "outputs": [
    {
     "name": "stderr",
     "output_type": "stream",
     "text": [
      "  0%|          | 0/160 [00:00<?, ?it/s]"
     ]
    },
    {
     "name": "stderr",
     "output_type": "stream",
     "text": [
      "100%|██████████| 160/160 [00:00<00:00, 562.97it/s]\n"
     ]
    }
   ],
   "source": [
    "dir_test = \"/data/lesc/users/rustichini/thesis/output/small_dataset/target_bpp_6/test\"\n",
    "df_test = pd.read_csv(\"/data/lesc/users/rustichini/thesis/test.csv\")\n",
    "df_test = df_test.drop(columns = [\"original_path\", \"path\"])\n",
    "\n",
    "\n",
    "X_test, y_test = create_dataset(df_test, dir_test, target)"
   ]
  },
  {
   "cell_type": "code",
   "execution_count": 27,
   "metadata": {},
   "outputs": [
    {
     "name": "stdout",
     "output_type": "stream",
     "text": [
      "(num_samples, num_features)\n",
      "Train dataset : (400, 65536)\n",
      "Test dataset: (160, 65536)\n"
     ]
    }
   ],
   "source": [
    "print(\"(num_samples, num_features)\")\n",
    "print(f\"Train dataset : {X_train.shape}\")\n",
    "print(f\"Test dataset: {X_test.shape}\")"
   ]
  },
  {
   "cell_type": "code",
   "execution_count": 28,
   "metadata": {},
   "outputs": [
    {
     "name": "stderr",
     "output_type": "stream",
     "text": [
      "/data/lesc/users/rustichini/miniconda3/envs/jpeg_ai_vm/lib/python3.11/site-packages/sklearn/base.py:380: InconsistentVersionWarning: Trying to unpickle estimator DecisionTreeClassifier from version 1.0.2 when using version 1.6.1. This might lead to breaking code or invalid results. Use at your own risk. For more info please refer to:\n",
      "https://scikit-learn.org/stable/model_persistence.html#security-maintainability-limitations\n",
      "  warnings.warn(\n"
     ]
    },
    {
     "ename": "ValueError",
     "evalue": "node array from the pickle has an incompatible dtype:\n- expected: {'names': ['left_child', 'right_child', 'feature', 'threshold', 'impurity', 'n_node_samples', 'weighted_n_node_samples', 'missing_go_to_left'], 'formats': ['<i8', '<i8', '<i8', '<f8', '<f8', '<i8', '<f8', 'u1'], 'offsets': [0, 8, 16, 24, 32, 40, 48, 56], 'itemsize': 64}\n- got     : [('left_child', '<i8'), ('right_child', '<i8'), ('feature', '<i8'), ('threshold', '<f8'), ('impurity', '<f8'), ('n_node_samples', '<i8'), ('weighted_n_node_samples', '<f8')]",
     "output_type": "error",
     "traceback": [
      "\u001b[31m---------------------------------------------------------------------------\u001b[39m",
      "\u001b[31mValueError\u001b[39m                                Traceback (most recent call last)",
      "\u001b[36mCell\u001b[39m\u001b[36m \u001b[39m\u001b[32mIn[28]\u001b[39m\u001b[32m, line 2\u001b[39m\n\u001b[32m      1\u001b[39m \u001b[38;5;28;01mwith\u001b[39;00m \u001b[38;5;28mopen\u001b[39m(\u001b[33m\"\u001b[39m\u001b[33m/data/lesc/users/rustichini/thesis/models_saved/medium_dataset/y/simple_RF_250.pkl\u001b[39m\u001b[33m\"\u001b[39m, \u001b[33m\"\u001b[39m\u001b[33mrb\u001b[39m\u001b[33m\"\u001b[39m) \u001b[38;5;28;01mas\u001b[39;00m file:\n\u001b[32m----> \u001b[39m\u001b[32m2\u001b[39m     model = pickle.load(file)\n\u001b[32m      3\u001b[39m y_pred_rf = model.predict(X_test)\n\u001b[32m      5\u001b[39m accuracy_rf = accuracy_score(y_test, y_pred_rf)\n",
      "\u001b[36mFile \u001b[39m\u001b[32m_tree.pyx:848\u001b[39m, in \u001b[36msklearn.tree._tree.Tree.__setstate__\u001b[39m\u001b[34m()\u001b[39m\n",
      "\u001b[36mFile \u001b[39m\u001b[32m_tree.pyx:1554\u001b[39m, in \u001b[36msklearn.tree._tree._check_node_ndarray\u001b[39m\u001b[34m()\u001b[39m\n",
      "\u001b[31mValueError\u001b[39m: node array from the pickle has an incompatible dtype:\n- expected: {'names': ['left_child', 'right_child', 'feature', 'threshold', 'impurity', 'n_node_samples', 'weighted_n_node_samples', 'missing_go_to_left'], 'formats': ['<i8', '<i8', '<i8', '<f8', '<f8', '<i8', '<f8', 'u1'], 'offsets': [0, 8, 16, 24, 32, 40, 48, 56], 'itemsize': 64}\n- got     : [('left_child', '<i8'), ('right_child', '<i8'), ('feature', '<i8'), ('threshold', '<f8'), ('impurity', '<f8'), ('n_node_samples', '<i8'), ('weighted_n_node_samples', '<f8')]"
     ]
    }
   ],
   "source": [
    "with open(\"/data/lesc/users/rustichini/thesis/models_saved/medium_dataset/y/simple_RF_250.pkl\", \"rb\") as file:\n",
    "    model = pickle.load(file)\n",
    "y_pred_rf = model.predict(X_test)\n",
    "\n",
    "accuracy_rf = accuracy_score(y_test, y_pred_rf)\n",
    "print(f\"1. Accuracy on test set using simple RF: {accuracy_rf:.4f}\")\n"
   ]
  },
  {
   "cell_type": "code",
   "execution_count": null,
   "metadata": {},
   "outputs": [
    {
     "ename": "ModuleNotFoundError",
     "evalue": "No module named 'sklearn.ensemble._hist_gradient_boosting.loss'",
     "output_type": "error",
     "traceback": [
      "\u001b[31m---------------------------------------------------------------------------\u001b[39m",
      "\u001b[31mModuleNotFoundError\u001b[39m                       Traceback (most recent call last)",
      "\u001b[36mCell\u001b[39m\u001b[36m \u001b[39m\u001b[32mIn[12]\u001b[39m\u001b[32m, line 2\u001b[39m\n\u001b[32m      1\u001b[39m \u001b[38;5;28;01mwith\u001b[39;00m \u001b[38;5;28mopen\u001b[39m(\u001b[33m\"\u001b[39m\u001b[33m/data/lesc/users/rustichini/thesis/models_saved/medium_dataset/y/hgb.pkl\u001b[39m\u001b[33m\"\u001b[39m, \u001b[33m\"\u001b[39m\u001b[33mrb\u001b[39m\u001b[33m\"\u001b[39m) \u001b[38;5;28;01mas\u001b[39;00m file:\n\u001b[32m----> \u001b[39m\u001b[32m2\u001b[39m     model_hgb = pickle.load(file)\n\u001b[32m      3\u001b[39m y_pred = model_hgb.predict(X_test)\n\u001b[32m      5\u001b[39m accuracy = accuracy_score(y_test, y_pred_rf)\n",
      "\u001b[31mModuleNotFoundError\u001b[39m: No module named 'sklearn.ensemble._hist_gradient_boosting.loss'"
     ]
    }
   ],
   "source": [
    "with open(\"/data/lesc/users/rustichini/thesis/models_saved/medium_dataset/y/hgb.pkl\", \"rb\") as file:\n",
    "    model_hgb = pickle.load(file)\n",
    "y_pred = model_hgb.predict(X_test)\n",
    "\n",
    "accuracy = accuracy_score(y_test, y_pred_rf)\n",
    "print(f\"1. Accuracy on test set using simple RF: {accuracy_rf:.4f}\")"
   ]
  },
  {
   "cell_type": "code",
   "execution_count": null,
   "metadata": {},
   "outputs": [
    {
     "ename": "NameError",
     "evalue": "name 'pickle' is not defined",
     "output_type": "error",
     "traceback": [
      "\u001b[31m---------------------------------------------------------------------------\u001b[39m",
      "\u001b[31mNameError\u001b[39m                                 Traceback (most recent call last)",
      "\u001b[36mCell\u001b[39m\u001b[36m \u001b[39m\u001b[32mIn[1]\u001b[39m\u001b[32m, line 2\u001b[39m\n\u001b[32m      1\u001b[39m \u001b[38;5;28;01mwith\u001b[39;00m \u001b[38;5;28mopen\u001b[39m(\u001b[33m\"\u001b[39m\u001b[33m/data/lesc/users/rustichini/thesis/models_saved/medium_dataset/y/grid_search_RF.pkl\u001b[39m\u001b[33m\"\u001b[39m, \u001b[33m\"\u001b[39m\u001b[33mrb\u001b[39m\u001b[33m\"\u001b[39m) \u001b[38;5;28;01mas\u001b[39;00m file:\n\u001b[32m----> \u001b[39m\u001b[32m2\u001b[39m     model_grid = pickle.load(file)\n\u001b[32m      3\u001b[39m y_pred = model_grid.predict(X_test)\n\u001b[32m      5\u001b[39m accuracy = accuracy_score(y_test, y_pred_rf)\n",
      "\u001b[31mNameError\u001b[39m: name 'pickle' is not defined"
     ]
    }
   ],
   "source": [
    "with open(\"/data/lesc/users/rustichini/thesis/models_saved/medium_dataset/y/grid_search_RF.pkl\", \"rb\") as file:\n",
    "    model_grid = pickle.load(file)\n",
    "y_pred = model_grid.predict(X_test)\n",
    "\n",
    "accuracy = accuracy_score(y_test, y_pred_rf)\n",
    "print(f\"1. Accuracy on test set using simple RF: {accuracy_rf:.4f}\")"
   ]
  }
 ],
 "metadata": {
  "kernelspec": {
   "display_name": "jpeg_ai_vm",
   "language": "python",
   "name": "python3"
  },
  "language_info": {
   "codemirror_mode": {
    "name": "ipython",
    "version": 3
   },
   "file_extension": ".py",
   "mimetype": "text/x-python",
   "name": "python",
   "nbconvert_exporter": "python",
   "pygments_lexer": "ipython3",
   "version": "3.11.13"
  }
 },
 "nbformat": 4,
 "nbformat_minor": 2
}
