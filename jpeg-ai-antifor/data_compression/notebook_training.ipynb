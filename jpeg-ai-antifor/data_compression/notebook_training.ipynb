{
 "cells": [
  {
   "cell_type": "code",
   "execution_count": 2,
   "metadata": {},
   "outputs": [],
   "source": [
    "import os, glob\n",
    "import torch\n",
    "import pandas as pd\n",
    "import numpy as np\n",
    "import pickle"
   ]
  },
  {
   "cell_type": "code",
   "execution_count": 3,
   "metadata": {},
   "outputs": [],
   "source": [
    "from sklearn.ensemble import RandomForestClassifier\n",
    "from sklearn.utils import shuffle\n",
    "from sklearn.metrics import accuracy_score, classification_report\n",
    "from sklearn.model_selection import train_test_split, GridSearchCV"
   ]
  },
  {
   "cell_type": "code",
   "execution_count": 4,
   "metadata": {},
   "outputs": [],
   "source": [
    "from train_RF import get_name, create_dataset"
   ]
  },
  {
   "cell_type": "code",
   "execution_count": 5,
   "metadata": {},
   "outputs": [],
   "source": [
    "target = 'y' #TODO: da provare anche con hat"
   ]
  },
  {
   "cell_type": "code",
   "execution_count": 25,
   "metadata": {},
   "outputs": [
    {
     "name": "stderr",
     "output_type": "stream",
     "text": [
      "100%|██████████| 400/400 [00:01<00:00, 391.14it/s]\n"
     ]
    }
   ],
   "source": [
    "dir_train = \"/data/lesc/users/rustichini/thesis/output/small_dataset/target_bpp_6/train\"\n",
    "df_train = pd.read_csv(\"/data/lesc/users/rustichini/thesis/train.csv\")\n",
    "df_train = df_train.drop(columns = [\"original_path\", \"path\"])\n",
    "\n",
    "X_train, y_train = create_dataset(df_train, dir_train, target)"
   ]
  },
  {
   "cell_type": "code",
   "execution_count": 26,
   "metadata": {},
   "outputs": [
    {
     "name": "stderr",
     "output_type": "stream",
     "text": [
      "  0%|          | 0/160 [00:00<?, ?it/s]"
     ]
    },
    {
     "name": "stderr",
     "output_type": "stream",
     "text": [
      "100%|██████████| 160/160 [00:00<00:00, 562.97it/s]\n"
     ]
    }
   ],
   "source": [
    "dir_test = \"/data/lesc/users/rustichini/thesis/output/small_dataset/target_bpp_6/test\"\n",
    "df_test = pd.read_csv(\"/data/lesc/users/rustichini/thesis/test.csv\")\n",
    "df_test = df_test.drop(columns = [\"original_path\", \"path\"])\n",
    "\n",
    "\n",
    "X_test, y_test = create_dataset(df_test, dir_test, target)"
   ]
  },
  {
   "cell_type": "code",
   "execution_count": 27,
   "metadata": {},
   "outputs": [
    {
     "name": "stdout",
     "output_type": "stream",
     "text": [
      "(num_samples, num_features)\n",
      "Train dataset : (400, 65536)\n",
      "Test dataset: (160, 65536)\n"
     ]
    }
   ],
   "source": [
    "print(\"(num_samples, num_features)\")\n",
    "print(f\"Train dataset : {X_train.shape}\")\n",
    "print(f\"Test dataset: {X_test.shape}\")"
   ]
  }
 ],
 "metadata": {
  "kernelspec": {
   "display_name": "jpeg_ai_vm",
   "language": "python",
   "name": "python3"
  },
  "language_info": {
   "codemirror_mode": {
    "name": "ipython",
    "version": 3
   },
   "file_extension": ".py",
   "mimetype": "text/x-python",
   "name": "python",
   "nbconvert_exporter": "python",
   "pygments_lexer": "ipython3",
   "version": "3.7.16"
  }
 },
 "nbformat": 4,
 "nbformat_minor": 2
}
