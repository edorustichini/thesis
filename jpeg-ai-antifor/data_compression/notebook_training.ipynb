{
 "cells": [
  {
   "cell_type": "code",
   "execution_count": 45,
   "metadata": {},
   "outputs": [],
   "source": [
    "import os, glob\n",
    "import torch\n",
    "import pandas as pd\n",
    "import numpy as np\n",
    "import pickle\n",
    "import joblib\n",
    "import argparse"
   ]
  },
  {
   "cell_type": "code",
   "execution_count": 46,
   "metadata": {},
   "outputs": [],
   "source": [
    "from sklearn.ensemble import RandomForestClassifier\n",
    "from sklearn.utils import shuffle\n",
    "from sklearn.metrics import accuracy_score, classification_report\n",
    "from sklearn.model_selection import train_test_split, GridSearchCV"
   ]
  },
  {
   "cell_type": "code",
   "execution_count": 47,
   "metadata": {},
   "outputs": [],
   "source": [
    "from train_RF import get_name, load, setup, sample, save, prepare_dataset, create_dataset"
   ]
  },
  {
   "cell_type": "code",
   "execution_count": 48,
   "metadata": {},
   "outputs": [],
   "source": [
    "import sys\n",
    "sys.argv = [\n",
    "    'train_RF.py',                   \n",
    "    '../../input_imgs',\n",
    "    '../../JPEGAI_output/'         \n",
    "    \n",
    "]\n",
    "# --- Setup an argument parser --- #\n",
    "# Arguments for coder\n",
    "parser = argparse.ArgumentParser(description='Compress a directory of images using the RecoEncoder')\n",
    "parser.add_argument('--gpu', type=int, default=0, help='GPU index')\n",
    "parser.add_argument('--imgs_path', type=str, default='../../real_vs_fake/real-vs-fake', help='Input directory')\n",
    "parser.add_argument('input_path', type=str, default='../../input_imgs', help='Input directory')\n",
    "parser.add_argument('bin_path', type=str, default='../../JPEGAI_output/', help='Save directory')\n",
    "parser.add_argument('--set_target_bpp', type=int, default=1, help='Set the target bpp '\n",
    "                                                                    '(multiplied by 100)')\n",
    "parser.add_argument('--models_dir_name', type=str, default='../../jpeg-ai-reference-software/models', help='Directory name for the '\n",
    "                                                                                'models used in the encoder-decoder'\n",
    "                                                                                'pipeline')\n",
    "#Arguments for training\n",
    "parser.add_argument('--num_samples', type=int, default=1000, help='Number of samples to train on')\n",
    "parser.add_argument('--num_samples_test', type=int, default=300, help='Number of samples to test on')\n",
    "parser.add_argument('--random_sample', type=bool, default=False, help='Sample')\n",
    "parser.add_argument(\"--train_csv\",default=\"../../train.csv\" , help=\"Path to dataset's csv file\")\n",
    "parser.add_argument(\"--test_csv\", default=\"../../test.csv\", help=\"Path to test's csv file\")\n",
    "parser.add_argument(\"-t\", \"--target\",default=None, help=\"y_hat if quantized latent, else y\")\n",
    "parser.add_argument(\"--save\", default=False, help=\"True if wanted to save dataset\")\n",
    "parser.add_argument(\"--models_save_dir\", default=\"/data/lesc/users/rustichini/thesis/models_saved\", help=\"Directory to save models\")\n",
    "\n",
    "args = parser.parse_args()\n",
    "\n",
    "#train_process(args)"
   ]
  },
  {
   "cell_type": "code",
   "execution_count": null,
   "metadata": {},
   "outputs": [],
   "source": []
  },
  {
   "cell_type": "code",
   "execution_count": 49,
   "metadata": {},
   "outputs": [],
   "source": [
    "imgs_dir = args.imgs_path\n",
    "\n",
    "df_test = pd.read_csv(args.test_csv)\n",
    "if args.num_samples is not None:\n",
    "    df_test = sample(df_test, args.num_samples)\n",
    "\n",
    "num_test = df_test.shape[0] \n",
    "\n",
    "save_latent_path = os.path.join(args.bin_path,str(args.set_target_bpp)+\"_bpp\",\"test\",\"latent\")"
   ]
  },
  {
   "cell_type": "code",
   "execution_count": 50,
   "metadata": {},
   "outputs": [
    {
     "name": "stdout",
     "output_type": "stream",
     "text": [
      "Namespace(bin_path='../../JPEGAI_output/', gpu=0, imgs_path='../../real_vs_fake/real-vs-fake', input_path='../../input_imgs', models_dir_name='../../jpeg-ai-reference-software/models', models_save_dir='/data/lesc/users/rustichini/thesis/models_saved', num_samples=1000, num_samples_test=300, random_sample=False, save=False, set_target_bpp=1, target=None, test_csv='../../test.csv', train_csv='../../train.csv')\n"
     ]
    }
   ],
   "source": [
    "print(args)"
   ]
  },
  {
   "cell_type": "code",
   "execution_count": 52,
   "metadata": {},
   "outputs": [
    {
     "name": "stdout",
     "output_type": "stream",
     "text": [
      "Using GPU 0\n",
      "Codec/Encoder: name=JAI, version=DIS\n",
      "../../JPEGAI_output/1_bpp/test/latent\n",
      "BEGIN\n",
      "            label label_str                      path\n",
      "id                                                   \n",
      "18233           1      real       test/real/18233.jpg\n",
      "54317           1      real       test/real/54317.jpg\n",
      "40155           1      real       test/real/40155.jpg\n",
      "12875           1      real       test/real/12875.jpg\n",
      "52543           1      real       test/real/52543.jpg\n",
      "...           ...       ...                       ...\n",
      "7VVURTOD9Z      0      fake  test/fake/7VVURTOD9Z.jpg\n",
      "CWEXDCDHA2      0      fake  test/fake/CWEXDCDHA2.jpg\n",
      "BF8NSMWWC9      0      fake  test/fake/BF8NSMWWC9.jpg\n",
      "B9NJCLL40W      0      fake  test/fake/B9NJCLL40W.jpg\n",
      "VF6O429TGS      0      fake  test/fake/VF6O429TGS.jpg\n",
      "\n",
      "[300 rows x 3 columns]\n"
     ]
    },
    {
     "name": "stderr",
     "output_type": "stream",
     "text": [
      "Creating dataset:   0%|                                                     | 0/300 [00:00<?, ?it/s]\n"
     ]
    },
    {
     "ename": "NameError",
     "evalue": "name 'args' is not defined",
     "output_type": "error",
     "traceback": [
      "\u001b[0;31m---------------------------------------------------------------------------\u001b[0m",
      "\u001b[0;31mNameError\u001b[0m                                 Traceback (most recent call last)",
      "\u001b[0;32m/tmp/ipykernel_1013047/3343258296.py\u001b[0m in \u001b[0;36m<module>\u001b[0;34m\u001b[0m\n\u001b[1;32m      8\u001b[0m \u001b[0;34m\u001b[0m\u001b[0m\n\u001b[1;32m      9\u001b[0m \u001b[0mprint\u001b[0m\u001b[0;34m(\u001b[0m\u001b[0msave_latent_path\u001b[0m\u001b[0;34m)\u001b[0m\u001b[0;34m\u001b[0m\u001b[0;34m\u001b[0m\u001b[0m\n\u001b[0;32m---> 10\u001b[0;31m \u001b[0mX_test\u001b[0m\u001b[0;34m,\u001b[0m \u001b[0m_\u001b[0m\u001b[0;34m,\u001b[0m \u001b[0my_test\u001b[0m \u001b[0;34m=\u001b[0m \u001b[0mcreate_dataset\u001b[0m\u001b[0;34m(\u001b[0m\u001b[0mcoder\u001b[0m\u001b[0;34m,\u001b[0m \u001b[0mdf_test\u001b[0m\u001b[0;34m,\u001b[0m \u001b[0margs\u001b[0m\u001b[0;34m.\u001b[0m\u001b[0mimgs_path\u001b[0m\u001b[0;34m,\u001b[0m \u001b[0msave_latent_path\u001b[0m\u001b[0;34m)\u001b[0m\u001b[0;34m\u001b[0m\u001b[0;34m\u001b[0m\u001b[0m\n\u001b[0m",
      "\u001b[0;32m~/thesis/jpeg-ai-antifor/data_compression/train_RF.py\u001b[0m in \u001b[0;36mcreate_dataset\u001b[0;34m(coder, dataset, img_dir, save_path)\u001b[0m\n\u001b[1;32m     99\u001b[0m         \u001b[0my_hat_set\u001b[0m\u001b[0;34m.\u001b[0m\u001b[0mappend\u001b[0m\u001b[0;34m(\u001b[0m\u001b[0my_hat_flat\u001b[0m\u001b[0;34m)\u001b[0m\u001b[0;34m\u001b[0m\u001b[0;34m\u001b[0m\u001b[0m\n\u001b[1;32m    100\u001b[0m \u001b[0;34m\u001b[0m\u001b[0m\n\u001b[0;32m--> 101\u001b[0;31m         \u001b[0;32mif\u001b[0m \u001b[0msave_path\u001b[0m \u001b[0;32mis\u001b[0m \u001b[0;32mnot\u001b[0m \u001b[0;32mNone\u001b[0m\u001b[0;34m:\u001b[0m\u001b[0;34m\u001b[0m\u001b[0;34m\u001b[0m\u001b[0m\n\u001b[0m\u001b[1;32m    102\u001b[0m             \u001b[0mnp\u001b[0m\u001b[0;34m.\u001b[0m\u001b[0msave\u001b[0m\u001b[0;34m(\u001b[0m\u001b[0my_file\u001b[0m\u001b[0;34m,\u001b[0m \u001b[0my_flat\u001b[0m\u001b[0;34m)\u001b[0m\u001b[0;34m\u001b[0m\u001b[0;34m\u001b[0m\u001b[0m\n\u001b[1;32m    103\u001b[0m             \u001b[0mnp\u001b[0m\u001b[0;34m.\u001b[0m\u001b[0msave\u001b[0m\u001b[0;34m(\u001b[0m\u001b[0my_hat_file\u001b[0m\u001b[0;34m,\u001b[0m \u001b[0my_hat_flat\u001b[0m\u001b[0;34m)\u001b[0m\u001b[0;34m\u001b[0m\u001b[0;34m\u001b[0m\u001b[0m\n",
      "\u001b[0;31mNameError\u001b[0m: name 'args' is not defined"
     ]
    }
   ],
   "source": [
    "coder = setup(args)\n",
    "df_test = pd.read_csv(args.test_csv)\n",
    "\n",
    "if df_test.shape[0] > args.num_samples_test:\n",
    "    df_test = sample(df_test,args.num_samples_test)\n",
    "\n",
    "save_latent_path = os.path.join(args.bin_path,str(args.set_target_bpp)+\"_bpp\",\"test\",\"latent\")\n",
    "\n",
    "print(save_latent_path)\n",
    "X_test, _, y_test = create_dataset(coder, df_test, args.imgs_path, save_latent_path)\n"
   ]
  },
  {
   "cell_type": "code",
   "execution_count": null,
   "metadata": {},
   "outputs": [
    {
     "name": "stdout",
     "output_type": "stream",
     "text": [
      "RandomForestClassifier(max_depth=20, max_features=0.1, min_samples_leaf=5,\n",
      "                       min_samples_split=20, n_estimators=200, n_jobs=8,\n",
      "                       random_state=42, verbose=1)\n"
     ]
    }
   ],
   "source": [
    "model_path = \"/data/lesc/users/rustichini/thesis/models_saved/6_bpp/1000_samples/y/RF_final_200trees_0.1features.joblib\"\n",
    "model = load(model_path)\n",
    "print(model)\n",
    "model.verbose=0\n"
   ]
  },
  {
   "cell_type": "code",
   "execution_count": null,
   "metadata": {},
   "outputs": [],
   "source": [
    "y_pred = model.predict(X_test)\n",
    "\n",
    "print(classification_report(y_test, y_pred))\n",
    "print(accuracy_score(y_test, y_pred))"
   ]
  },
  {
   "cell_type": "code",
   "execution_count": null,
   "metadata": {},
   "outputs": [
    {
     "name": "stdout",
     "output_type": "stream",
     "text": [
      "              precision    recall  f1-score   support\n",
      "\n",
      "           0       0.81      0.75      0.78      1000\n",
      "           1       0.77      0.82      0.79      1000\n",
      "\n",
      "    accuracy                           0.79      2000\n",
      "   macro avg       0.79      0.79      0.79      2000\n",
      "weighted avg       0.79      0.79      0.79      2000\n",
      "\n",
      "0.786\n"
     ]
    }
   ],
   "source": [
    "model_path = \"/data/lesc/users/rustichini/thesis/models_saved/6_bpp/30000_samples/y_hat/grid_search.joblib\"\n",
    "model = load(model_path)\n",
    "y_pred = model.predict(X_test)\n",
    "print(classification_report(y_test, y_pred))\n",
    "\n",
    "print(accuracy_score(y_test, y_pred))"
   ]
  },
  {
   "cell_type": "code",
   "execution_count": null,
   "metadata": {},
   "outputs": [
    {
     "name": "stdout",
     "output_type": "stream",
     "text": [
      "              precision    recall  f1-score   support\n",
      "\n",
      "           0       0.68      0.04      0.08      1000\n",
      "           1       0.51      0.98      0.67      1000\n",
      "\n",
      "    accuracy                           0.51      2000\n",
      "   macro avg       0.59      0.51      0.37      2000\n",
      "weighted avg       0.59      0.51      0.37      2000\n",
      "\n",
      "0.511\n"
     ]
    }
   ],
   "source": [
    "model_path = \"/data/lesc/users/rustichini/thesis/models_saved/6_bpp/25000_samples/y/RF_100_estimators.joblib\"\n",
    "model = load(model_path)\n",
    "y_pred = model.predict(X_test)\n",
    "print(classification_report(y_test, y_pred))\n",
    "\n",
    "print(accuracy_score(y_test, y_pred))"
   ]
  }
 ],
 "metadata": {
  "kernelspec": {
   "display_name": "jpeg_ai_vm",
   "language": "python",
   "name": "python3"
  },
  "language_info": {
   "codemirror_mode": {
    "name": "ipython",
    "version": 3
   },
   "file_extension": ".py",
   "mimetype": "text/x-python",
   "name": "python",
   "nbconvert_exporter": "python",
   "pygments_lexer": "ipython3",
   "version": "3.7.16"
  }
 },
 "nbformat": 4,
 "nbformat_minor": 2
}
